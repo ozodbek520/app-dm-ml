{
 "cells": [
  {
   "cell_type": "code",
   "execution_count": 1,
   "metadata": {
    "id": "8XBX4Js-iLcT"
   },
   "outputs": [
    {
     "ename": "ModuleNotFoundError",
     "evalue": "No module named 'google'",
     "output_type": "error",
     "traceback": [
      "\u001b[0;31m---------------------------------------------------------------------------\u001b[0m",
      "\u001b[0;31mModuleNotFoundError\u001b[0m                       Traceback (most recent call last)",
      "Input \u001b[0;32mIn [1]\u001b[0m, in \u001b[0;36m<cell line: 1>\u001b[0;34m()\u001b[0m\n\u001b[0;32m----> 1\u001b[0m \u001b[38;5;28;01mfrom\u001b[39;00m \u001b[38;5;21;01mgoogle\u001b[39;00m\u001b[38;5;21;01m.\u001b[39;00m\u001b[38;5;21;01mcolab\u001b[39;00m \u001b[38;5;28;01mimport\u001b[39;00m files\n\u001b[1;32m      2\u001b[0m uploaded \u001b[38;5;241m=\u001b[39m files\u001b[38;5;241m.\u001b[39mupload()\n",
      "\u001b[0;31mModuleNotFoundError\u001b[0m: No module named 'google'"
     ]
    }
   ],
   "source": [
    "from google.colab import files\n",
    "uploaded = files.upload()"
   ]
  },
  {
   "cell_type": "markdown",
   "metadata": {
    "id": "mzSjupC-rlzm"
   },
   "source": [
    "# Objective of the task is to predict the Profit of the state based on the other factors."
   ]
  },
  {
   "cell_type": "code",
   "execution_count": 1,
   "metadata": {
    "id": "UJgt7Pe4hBL9"
   },
   "outputs": [],
   "source": [
    "import numpy as np\n",
    "import pandas as pd\n",
    "import matplotlib.pyplot as plt\n"
   ]
  },
  {
   "cell_type": "code",
   "execution_count": 2,
   "metadata": {
    "id": "-PDHsuSxicT-"
   },
   "outputs": [
    {
     "data": {
      "text/html": [
       "<div>\n",
       "<style scoped>\n",
       "    .dataframe tbody tr th:only-of-type {\n",
       "        vertical-align: middle;\n",
       "    }\n",
       "\n",
       "    .dataframe tbody tr th {\n",
       "        vertical-align: top;\n",
       "    }\n",
       "\n",
       "    .dataframe thead th {\n",
       "        text-align: right;\n",
       "    }\n",
       "</style>\n",
       "<table border=\"1\" class=\"dataframe\">\n",
       "  <thead>\n",
       "    <tr style=\"text-align: right;\">\n",
       "      <th></th>\n",
       "      <th>R&amp;D Spend</th>\n",
       "      <th>Administration</th>\n",
       "      <th>Marketing Spend</th>\n",
       "      <th>State</th>\n",
       "      <th>Profit</th>\n",
       "    </tr>\n",
       "  </thead>\n",
       "  <tbody>\n",
       "    <tr>\n",
       "      <th>0</th>\n",
       "      <td>165349.20</td>\n",
       "      <td>136897.80</td>\n",
       "      <td>471784.10</td>\n",
       "      <td>New York</td>\n",
       "      <td>192261.83</td>\n",
       "    </tr>\n",
       "    <tr>\n",
       "      <th>1</th>\n",
       "      <td>162597.70</td>\n",
       "      <td>151377.59</td>\n",
       "      <td>443898.53</td>\n",
       "      <td>California</td>\n",
       "      <td>191792.06</td>\n",
       "    </tr>\n",
       "    <tr>\n",
       "      <th>2</th>\n",
       "      <td>153441.51</td>\n",
       "      <td>101145.55</td>\n",
       "      <td>407934.54</td>\n",
       "      <td>Florida</td>\n",
       "      <td>191050.39</td>\n",
       "    </tr>\n",
       "    <tr>\n",
       "      <th>3</th>\n",
       "      <td>144372.41</td>\n",
       "      <td>118671.85</td>\n",
       "      <td>383199.62</td>\n",
       "      <td>New York</td>\n",
       "      <td>182901.99</td>\n",
       "    </tr>\n",
       "    <tr>\n",
       "      <th>4</th>\n",
       "      <td>142107.34</td>\n",
       "      <td>91391.77</td>\n",
       "      <td>366168.42</td>\n",
       "      <td>Florida</td>\n",
       "      <td>166187.94</td>\n",
       "    </tr>\n",
       "  </tbody>\n",
       "</table>\n",
       "</div>"
      ],
      "text/plain": [
       "   R&D Spend  Administration  Marketing Spend       State     Profit\n",
       "0  165349.20       136897.80        471784.10    New York  192261.83\n",
       "1  162597.70       151377.59        443898.53  California  191792.06\n",
       "2  153441.51       101145.55        407934.54     Florida  191050.39\n",
       "3  144372.41       118671.85        383199.62    New York  182901.99\n",
       "4  142107.34        91391.77        366168.42     Florida  166187.94"
      ]
     },
     "execution_count": 2,
     "metadata": {},
     "output_type": "execute_result"
    }
   ],
   "source": [
    "# Assuming the file is in the same directory as your script/notebook\n",
    "file_path = \"50_Startups.csv\"\n",
    "dataset = pd.read_csv(file_path)\n",
    "\n",
    "# Print sample data\n",
    "dataset.head()\n"
   ]
  },
  {
   "cell_type": "markdown",
   "metadata": {
    "id": "27F819fqr0MK"
   },
   "source": [
    "# Separate the independednt and Dependent variables.\n",
    "# Profit is the dependedent variable\n",
    "\n",
    "## What is the role of the axis and inplace in following code?"
   ]
  },
  {
   "cell_type": "code",
   "execution_count": 3,
   "metadata": {
    "id": "LUXxD-gViltR"
   },
   "outputs": [],
   "source": [
    "y = np.asarray(dataset['Profit'].values.tolist())\n",
    "\n",
    "dataset.drop([\"Profit\"], axis = 1, inplace = True)"
   ]
  },
  {
   "cell_type": "markdown",
   "metadata": {
    "id": "W8d-0FfnsN0O"
   },
   "source": [
    "# We will convert  Categorical Variable values \"State\" to numbers with the One Hot Encoding Technique\n",
    "\n",
    "# Initially, we will counts value that the feature \"State\" can take.\n",
    "\n",
    "# Remember .value_counts() function"
   ]
  },
  {
   "cell_type": "code",
   "execution_count": 4,
   "metadata": {
    "id": "M3CB3Ct9i4an"
   },
   "outputs": [
    {
     "data": {
      "text/plain": [
       "New York      17\n",
       "California    17\n",
       "Florida       16\n",
       "Name: State, dtype: int64"
      ]
     },
     "execution_count": 4,
     "metadata": {},
     "output_type": "execute_result"
    }
   ],
   "source": [
    "dataset.iloc[:,3].value_counts()"
   ]
  },
  {
   "cell_type": "markdown",
   "metadata": {
    "id": "_WSSeKczss1U"
   },
   "source": [
    "# Replacing the three states by the numbers 1, 2, 3.\n",
    "# This is also called as the LabelEncoding"
   ]
  },
  {
   "cell_type": "code",
   "execution_count": 5,
   "metadata": {
    "id": "RonZ0XJVi7VO"
   },
   "outputs": [
    {
     "data": {
      "text/html": [
       "<div>\n",
       "<style scoped>\n",
       "    .dataframe tbody tr th:only-of-type {\n",
       "        vertical-align: middle;\n",
       "    }\n",
       "\n",
       "    .dataframe tbody tr th {\n",
       "        vertical-align: top;\n",
       "    }\n",
       "\n",
       "    .dataframe thead th {\n",
       "        text-align: right;\n",
       "    }\n",
       "</style>\n",
       "<table border=\"1\" class=\"dataframe\">\n",
       "  <thead>\n",
       "    <tr style=\"text-align: right;\">\n",
       "      <th></th>\n",
       "      <th>R&amp;D Spend</th>\n",
       "      <th>Administration</th>\n",
       "      <th>Marketing Spend</th>\n",
       "      <th>State</th>\n",
       "    </tr>\n",
       "  </thead>\n",
       "  <tbody>\n",
       "    <tr>\n",
       "      <th>0</th>\n",
       "      <td>165349.20</td>\n",
       "      <td>136897.80</td>\n",
       "      <td>471784.10</td>\n",
       "      <td>2</td>\n",
       "    </tr>\n",
       "    <tr>\n",
       "      <th>1</th>\n",
       "      <td>162597.70</td>\n",
       "      <td>151377.59</td>\n",
       "      <td>443898.53</td>\n",
       "      <td>1</td>\n",
       "    </tr>\n",
       "    <tr>\n",
       "      <th>2</th>\n",
       "      <td>153441.51</td>\n",
       "      <td>101145.55</td>\n",
       "      <td>407934.54</td>\n",
       "      <td>3</td>\n",
       "    </tr>\n",
       "    <tr>\n",
       "      <th>3</th>\n",
       "      <td>144372.41</td>\n",
       "      <td>118671.85</td>\n",
       "      <td>383199.62</td>\n",
       "      <td>2</td>\n",
       "    </tr>\n",
       "    <tr>\n",
       "      <th>4</th>\n",
       "      <td>142107.34</td>\n",
       "      <td>91391.77</td>\n",
       "      <td>366168.42</td>\n",
       "      <td>3</td>\n",
       "    </tr>\n",
       "    <tr>\n",
       "      <th>5</th>\n",
       "      <td>131876.90</td>\n",
       "      <td>99814.71</td>\n",
       "      <td>362861.36</td>\n",
       "      <td>2</td>\n",
       "    </tr>\n",
       "    <tr>\n",
       "      <th>6</th>\n",
       "      <td>134615.46</td>\n",
       "      <td>147198.87</td>\n",
       "      <td>127716.82</td>\n",
       "      <td>1</td>\n",
       "    </tr>\n",
       "    <tr>\n",
       "      <th>7</th>\n",
       "      <td>130298.13</td>\n",
       "      <td>145530.06</td>\n",
       "      <td>323876.68</td>\n",
       "      <td>3</td>\n",
       "    </tr>\n",
       "    <tr>\n",
       "      <th>8</th>\n",
       "      <td>120542.52</td>\n",
       "      <td>148718.95</td>\n",
       "      <td>311613.29</td>\n",
       "      <td>2</td>\n",
       "    </tr>\n",
       "    <tr>\n",
       "      <th>9</th>\n",
       "      <td>123334.88</td>\n",
       "      <td>108679.17</td>\n",
       "      <td>304981.62</td>\n",
       "      <td>1</td>\n",
       "    </tr>\n",
       "    <tr>\n",
       "      <th>10</th>\n",
       "      <td>101913.08</td>\n",
       "      <td>110594.11</td>\n",
       "      <td>229160.95</td>\n",
       "      <td>3</td>\n",
       "    </tr>\n",
       "    <tr>\n",
       "      <th>11</th>\n",
       "      <td>100671.96</td>\n",
       "      <td>91790.61</td>\n",
       "      <td>249744.55</td>\n",
       "      <td>1</td>\n",
       "    </tr>\n",
       "    <tr>\n",
       "      <th>12</th>\n",
       "      <td>93863.75</td>\n",
       "      <td>127320.38</td>\n",
       "      <td>249839.44</td>\n",
       "      <td>3</td>\n",
       "    </tr>\n",
       "    <tr>\n",
       "      <th>13</th>\n",
       "      <td>91992.39</td>\n",
       "      <td>135495.07</td>\n",
       "      <td>252664.93</td>\n",
       "      <td>1</td>\n",
       "    </tr>\n",
       "    <tr>\n",
       "      <th>14</th>\n",
       "      <td>119943.24</td>\n",
       "      <td>156547.42</td>\n",
       "      <td>256512.92</td>\n",
       "      <td>3</td>\n",
       "    </tr>\n",
       "    <tr>\n",
       "      <th>15</th>\n",
       "      <td>114523.61</td>\n",
       "      <td>122616.84</td>\n",
       "      <td>261776.23</td>\n",
       "      <td>2</td>\n",
       "    </tr>\n",
       "    <tr>\n",
       "      <th>16</th>\n",
       "      <td>78013.11</td>\n",
       "      <td>121597.55</td>\n",
       "      <td>264346.06</td>\n",
       "      <td>1</td>\n",
       "    </tr>\n",
       "    <tr>\n",
       "      <th>17</th>\n",
       "      <td>94657.16</td>\n",
       "      <td>145077.58</td>\n",
       "      <td>282574.31</td>\n",
       "      <td>2</td>\n",
       "    </tr>\n",
       "    <tr>\n",
       "      <th>18</th>\n",
       "      <td>91749.16</td>\n",
       "      <td>114175.79</td>\n",
       "      <td>294919.57</td>\n",
       "      <td>3</td>\n",
       "    </tr>\n",
       "    <tr>\n",
       "      <th>19</th>\n",
       "      <td>86419.70</td>\n",
       "      <td>153514.11</td>\n",
       "      <td>0.00</td>\n",
       "      <td>2</td>\n",
       "    </tr>\n",
       "    <tr>\n",
       "      <th>20</th>\n",
       "      <td>76253.86</td>\n",
       "      <td>113867.30</td>\n",
       "      <td>298664.47</td>\n",
       "      <td>1</td>\n",
       "    </tr>\n",
       "    <tr>\n",
       "      <th>21</th>\n",
       "      <td>78389.47</td>\n",
       "      <td>153773.43</td>\n",
       "      <td>299737.29</td>\n",
       "      <td>2</td>\n",
       "    </tr>\n",
       "    <tr>\n",
       "      <th>22</th>\n",
       "      <td>73994.56</td>\n",
       "      <td>122782.75</td>\n",
       "      <td>303319.26</td>\n",
       "      <td>3</td>\n",
       "    </tr>\n",
       "    <tr>\n",
       "      <th>23</th>\n",
       "      <td>67532.53</td>\n",
       "      <td>105751.03</td>\n",
       "      <td>304768.73</td>\n",
       "      <td>3</td>\n",
       "    </tr>\n",
       "    <tr>\n",
       "      <th>24</th>\n",
       "      <td>77044.01</td>\n",
       "      <td>99281.34</td>\n",
       "      <td>140574.81</td>\n",
       "      <td>2</td>\n",
       "    </tr>\n",
       "    <tr>\n",
       "      <th>25</th>\n",
       "      <td>64664.71</td>\n",
       "      <td>139553.16</td>\n",
       "      <td>137962.62</td>\n",
       "      <td>1</td>\n",
       "    </tr>\n",
       "    <tr>\n",
       "      <th>26</th>\n",
       "      <td>75328.87</td>\n",
       "      <td>144135.98</td>\n",
       "      <td>134050.07</td>\n",
       "      <td>3</td>\n",
       "    </tr>\n",
       "    <tr>\n",
       "      <th>27</th>\n",
       "      <td>72107.60</td>\n",
       "      <td>127864.55</td>\n",
       "      <td>353183.81</td>\n",
       "      <td>2</td>\n",
       "    </tr>\n",
       "    <tr>\n",
       "      <th>28</th>\n",
       "      <td>66051.52</td>\n",
       "      <td>182645.56</td>\n",
       "      <td>118148.20</td>\n",
       "      <td>3</td>\n",
       "    </tr>\n",
       "    <tr>\n",
       "      <th>29</th>\n",
       "      <td>65605.48</td>\n",
       "      <td>153032.06</td>\n",
       "      <td>107138.38</td>\n",
       "      <td>2</td>\n",
       "    </tr>\n",
       "    <tr>\n",
       "      <th>30</th>\n",
       "      <td>61994.48</td>\n",
       "      <td>115641.28</td>\n",
       "      <td>91131.24</td>\n",
       "      <td>3</td>\n",
       "    </tr>\n",
       "    <tr>\n",
       "      <th>31</th>\n",
       "      <td>61136.38</td>\n",
       "      <td>152701.92</td>\n",
       "      <td>88218.23</td>\n",
       "      <td>2</td>\n",
       "    </tr>\n",
       "    <tr>\n",
       "      <th>32</th>\n",
       "      <td>63408.86</td>\n",
       "      <td>129219.61</td>\n",
       "      <td>46085.25</td>\n",
       "      <td>1</td>\n",
       "    </tr>\n",
       "    <tr>\n",
       "      <th>33</th>\n",
       "      <td>55493.95</td>\n",
       "      <td>103057.49</td>\n",
       "      <td>214634.81</td>\n",
       "      <td>3</td>\n",
       "    </tr>\n",
       "    <tr>\n",
       "      <th>34</th>\n",
       "      <td>46426.07</td>\n",
       "      <td>157693.92</td>\n",
       "      <td>210797.67</td>\n",
       "      <td>1</td>\n",
       "    </tr>\n",
       "    <tr>\n",
       "      <th>35</th>\n",
       "      <td>46014.02</td>\n",
       "      <td>85047.44</td>\n",
       "      <td>205517.64</td>\n",
       "      <td>2</td>\n",
       "    </tr>\n",
       "    <tr>\n",
       "      <th>36</th>\n",
       "      <td>28663.76</td>\n",
       "      <td>127056.21</td>\n",
       "      <td>201126.82</td>\n",
       "      <td>3</td>\n",
       "    </tr>\n",
       "    <tr>\n",
       "      <th>37</th>\n",
       "      <td>44069.95</td>\n",
       "      <td>51283.14</td>\n",
       "      <td>197029.42</td>\n",
       "      <td>1</td>\n",
       "    </tr>\n",
       "    <tr>\n",
       "      <th>38</th>\n",
       "      <td>20229.59</td>\n",
       "      <td>65947.93</td>\n",
       "      <td>185265.10</td>\n",
       "      <td>2</td>\n",
       "    </tr>\n",
       "    <tr>\n",
       "      <th>39</th>\n",
       "      <td>38558.51</td>\n",
       "      <td>82982.09</td>\n",
       "      <td>174999.30</td>\n",
       "      <td>1</td>\n",
       "    </tr>\n",
       "    <tr>\n",
       "      <th>40</th>\n",
       "      <td>28754.33</td>\n",
       "      <td>118546.05</td>\n",
       "      <td>172795.67</td>\n",
       "      <td>1</td>\n",
       "    </tr>\n",
       "    <tr>\n",
       "      <th>41</th>\n",
       "      <td>27892.92</td>\n",
       "      <td>84710.77</td>\n",
       "      <td>164470.71</td>\n",
       "      <td>3</td>\n",
       "    </tr>\n",
       "    <tr>\n",
       "      <th>42</th>\n",
       "      <td>23640.93</td>\n",
       "      <td>96189.63</td>\n",
       "      <td>148001.11</td>\n",
       "      <td>1</td>\n",
       "    </tr>\n",
       "    <tr>\n",
       "      <th>43</th>\n",
       "      <td>15505.73</td>\n",
       "      <td>127382.30</td>\n",
       "      <td>35534.17</td>\n",
       "      <td>2</td>\n",
       "    </tr>\n",
       "    <tr>\n",
       "      <th>44</th>\n",
       "      <td>22177.74</td>\n",
       "      <td>154806.14</td>\n",
       "      <td>28334.72</td>\n",
       "      <td>1</td>\n",
       "    </tr>\n",
       "    <tr>\n",
       "      <th>45</th>\n",
       "      <td>1000.23</td>\n",
       "      <td>124153.04</td>\n",
       "      <td>1903.93</td>\n",
       "      <td>2</td>\n",
       "    </tr>\n",
       "    <tr>\n",
       "      <th>46</th>\n",
       "      <td>1315.46</td>\n",
       "      <td>115816.21</td>\n",
       "      <td>297114.46</td>\n",
       "      <td>3</td>\n",
       "    </tr>\n",
       "    <tr>\n",
       "      <th>47</th>\n",
       "      <td>0.00</td>\n",
       "      <td>135426.92</td>\n",
       "      <td>0.00</td>\n",
       "      <td>1</td>\n",
       "    </tr>\n",
       "    <tr>\n",
       "      <th>48</th>\n",
       "      <td>542.05</td>\n",
       "      <td>51743.15</td>\n",
       "      <td>0.00</td>\n",
       "      <td>2</td>\n",
       "    </tr>\n",
       "    <tr>\n",
       "      <th>49</th>\n",
       "      <td>0.00</td>\n",
       "      <td>116983.80</td>\n",
       "      <td>45173.06</td>\n",
       "      <td>1</td>\n",
       "    </tr>\n",
       "  </tbody>\n",
       "</table>\n",
       "</div>"
      ],
      "text/plain": [
       "    R&D Spend  Administration  Marketing Spend  State\n",
       "0   165349.20       136897.80        471784.10      2\n",
       "1   162597.70       151377.59        443898.53      1\n",
       "2   153441.51       101145.55        407934.54      3\n",
       "3   144372.41       118671.85        383199.62      2\n",
       "4   142107.34        91391.77        366168.42      3\n",
       "5   131876.90        99814.71        362861.36      2\n",
       "6   134615.46       147198.87        127716.82      1\n",
       "7   130298.13       145530.06        323876.68      3\n",
       "8   120542.52       148718.95        311613.29      2\n",
       "9   123334.88       108679.17        304981.62      1\n",
       "10  101913.08       110594.11        229160.95      3\n",
       "11  100671.96        91790.61        249744.55      1\n",
       "12   93863.75       127320.38        249839.44      3\n",
       "13   91992.39       135495.07        252664.93      1\n",
       "14  119943.24       156547.42        256512.92      3\n",
       "15  114523.61       122616.84        261776.23      2\n",
       "16   78013.11       121597.55        264346.06      1\n",
       "17   94657.16       145077.58        282574.31      2\n",
       "18   91749.16       114175.79        294919.57      3\n",
       "19   86419.70       153514.11             0.00      2\n",
       "20   76253.86       113867.30        298664.47      1\n",
       "21   78389.47       153773.43        299737.29      2\n",
       "22   73994.56       122782.75        303319.26      3\n",
       "23   67532.53       105751.03        304768.73      3\n",
       "24   77044.01        99281.34        140574.81      2\n",
       "25   64664.71       139553.16        137962.62      1\n",
       "26   75328.87       144135.98        134050.07      3\n",
       "27   72107.60       127864.55        353183.81      2\n",
       "28   66051.52       182645.56        118148.20      3\n",
       "29   65605.48       153032.06        107138.38      2\n",
       "30   61994.48       115641.28         91131.24      3\n",
       "31   61136.38       152701.92         88218.23      2\n",
       "32   63408.86       129219.61         46085.25      1\n",
       "33   55493.95       103057.49        214634.81      3\n",
       "34   46426.07       157693.92        210797.67      1\n",
       "35   46014.02        85047.44        205517.64      2\n",
       "36   28663.76       127056.21        201126.82      3\n",
       "37   44069.95        51283.14        197029.42      1\n",
       "38   20229.59        65947.93        185265.10      2\n",
       "39   38558.51        82982.09        174999.30      1\n",
       "40   28754.33       118546.05        172795.67      1\n",
       "41   27892.92        84710.77        164470.71      3\n",
       "42   23640.93        96189.63        148001.11      1\n",
       "43   15505.73       127382.30         35534.17      2\n",
       "44   22177.74       154806.14         28334.72      1\n",
       "45    1000.23       124153.04          1903.93      2\n",
       "46    1315.46       115816.21        297114.46      3\n",
       "47       0.00       135426.92             0.00      1\n",
       "48     542.05        51743.15             0.00      2\n",
       "49       0.00       116983.80         45173.06      1"
      ]
     },
     "execution_count": 5,
     "metadata": {},
     "output_type": "execute_result"
    }
   ],
   "source": [
    "dataset.replace(to_replace=[\"California\",\"New York\", \"Florida\"], value=[1,2,3])"
   ]
  },
  {
   "cell_type": "markdown",
   "metadata": {
    "id": "kQungUWgtBIL"
   },
   "source": [
    "# We will create 3 more columns for the three states."
   ]
  },
  {
   "cell_type": "code",
   "execution_count": 6,
   "metadata": {
    "id": "sEz2FMUfi9gK"
   },
   "outputs": [],
   "source": [
    "dataset[\"California\"] = dataset.iloc[:, 3]\n",
    "dataset[\"New York\"] = dataset.iloc[:,3]\n",
    "dataset[\"Florida\"] = dataset.iloc[:,3]"
   ]
  },
  {
   "cell_type": "markdown",
   "metadata": {
    "id": "unUvog8WtNpu"
   },
   "source": [
    "# Check how the dataset looks now"
   ]
  },
  {
   "cell_type": "code",
   "execution_count": 7,
   "metadata": {
    "id": "98teOtjzjIp2"
   },
   "outputs": [
    {
     "name": "stdout",
     "output_type": "stream",
     "text": [
      "   R&D Spend  Administration  Marketing Spend  California    New York  \\\n",
      "0  165349.20       136897.80        471784.10    New York    New York   \n",
      "1  162597.70       151377.59        443898.53  California  California   \n",
      "2  153441.51       101145.55        407934.54     Florida     Florida   \n",
      "3  144372.41       118671.85        383199.62    New York    New York   \n",
      "4  142107.34        91391.77        366168.42     Florida     Florida   \n",
      "\n",
      "      Florida  State_California  State_Florida  State_New York  \n",
      "0    New York                 0              0               1  \n",
      "1  California                 1              0               0  \n",
      "2     Florida                 0              1               0  \n",
      "3    New York                 0              0               1  \n",
      "4     Florida                 0              1               0  \n"
     ]
    }
   ],
   "source": [
    "# Your code to print few samples of dataset.\n",
    "\n",
    "# One-hot encode the 'State' column\n",
    "one_hot_encoded_states = pd.get_dummies(dataset['State'], prefix='State')\n",
    "\n",
    "# Concatenate the original dataset with the one-hot encoded columns\n",
    "dataset = pd.concat([dataset, one_hot_encoded_states], axis=1)\n",
    "\n",
    "# Drop the original 'State' column\n",
    "dataset = dataset.drop('State', axis=1)\n",
    "\n",
    "# Check how the dataset looks now\n",
    "print(dataset.head())\n"
   ]
  },
  {
   "cell_type": "markdown",
   "metadata": {
    "id": "OoLuUTSBtVZj"
   },
   "source": [
    "# Performing one hot encoding for the column Calfornia.\n",
    "## Replace text 'California' with 1 and others with 0 for this column."
   ]
  },
  {
   "cell_type": "code",
   "execution_count": 9,
   "metadata": {
    "id": "ZABX9aatjLdw"
   },
   "outputs": [],
   "source": [
    "dataset.loc[dataset[\"California\"]!=\"California\", \"California\"] = 0\n",
    "dataset.loc[dataset[\"California\"]==\"California\", \"California\"] = 1"
   ]
  },
  {
   "cell_type": "markdown",
   "metadata": {
    "id": "Rrqbptyntrgw"
   },
   "source": [
    "# Perform the one hot encoding for New York and the Florida column"
   ]
  },
  {
   "cell_type": "code",
   "execution_count": 11,
   "metadata": {
    "id": "6zcJTPVxjPYk"
   },
   "outputs": [],
   "source": [
    "# Performing One Hot Encoding for the column \"New York\"\n",
    "dataset.loc[dataset[\"New York\"]!=\"New York\", \"New York\"] = 0\n",
    "dataset.loc[dataset[\"New York\"]==\"New York\", \"New York\"] = 1"
   ]
  },
  {
   "cell_type": "code",
   "execution_count": 12,
   "metadata": {
    "id": "XnoCxjbejSmN"
   },
   "outputs": [],
   "source": [
    "# Performing One Hot Encoding for the column \"Florida\"\n",
    "dataset.loc[dataset.Florida!=\"Florida\", \"Florida\"] = 0\n",
    "dataset.loc[dataset.Florida==\"Florida\", \"Florida\"] = 1"
   ]
  },
  {
   "cell_type": "markdown",
   "metadata": {
    "id": "Of9U6eX4uGwj"
   },
   "source": [
    "# Now look at the dataset\n",
    "## Can you find the state name from numbers in last three columns only?"
   ]
  },
  {
   "cell_type": "code",
   "execution_count": 15,
   "metadata": {
    "id": "4JUs_zpLjV_e"
   },
   "outputs": [
    {
     "data": {
      "text/html": [
       "<div>\n",
       "<style scoped>\n",
       "    .dataframe tbody tr th:only-of-type {\n",
       "        vertical-align: middle;\n",
       "    }\n",
       "\n",
       "    .dataframe tbody tr th {\n",
       "        vertical-align: top;\n",
       "    }\n",
       "\n",
       "    .dataframe thead th {\n",
       "        text-align: right;\n",
       "    }\n",
       "</style>\n",
       "<table border=\"1\" class=\"dataframe\">\n",
       "  <thead>\n",
       "    <tr style=\"text-align: right;\">\n",
       "      <th></th>\n",
       "      <th>R&amp;D Spend</th>\n",
       "      <th>Administration</th>\n",
       "      <th>Marketing Spend</th>\n",
       "      <th>California</th>\n",
       "      <th>New York</th>\n",
       "      <th>Florida</th>\n",
       "      <th>State_California</th>\n",
       "      <th>State_Florida</th>\n",
       "      <th>State_New York</th>\n",
       "    </tr>\n",
       "  </thead>\n",
       "  <tbody>\n",
       "    <tr>\n",
       "      <th>0</th>\n",
       "      <td>165349.20</td>\n",
       "      <td>136897.80</td>\n",
       "      <td>471784.10</td>\n",
       "      <td>0</td>\n",
       "      <td>0</td>\n",
       "      <td>0</td>\n",
       "      <td>0</td>\n",
       "      <td>0</td>\n",
       "      <td>1</td>\n",
       "    </tr>\n",
       "    <tr>\n",
       "      <th>1</th>\n",
       "      <td>162597.70</td>\n",
       "      <td>151377.59</td>\n",
       "      <td>443898.53</td>\n",
       "      <td>0</td>\n",
       "      <td>0</td>\n",
       "      <td>0</td>\n",
       "      <td>1</td>\n",
       "      <td>0</td>\n",
       "      <td>0</td>\n",
       "    </tr>\n",
       "    <tr>\n",
       "      <th>2</th>\n",
       "      <td>153441.51</td>\n",
       "      <td>101145.55</td>\n",
       "      <td>407934.54</td>\n",
       "      <td>0</td>\n",
       "      <td>0</td>\n",
       "      <td>1</td>\n",
       "      <td>0</td>\n",
       "      <td>1</td>\n",
       "      <td>0</td>\n",
       "    </tr>\n",
       "    <tr>\n",
       "      <th>3</th>\n",
       "      <td>144372.41</td>\n",
       "      <td>118671.85</td>\n",
       "      <td>383199.62</td>\n",
       "      <td>0</td>\n",
       "      <td>0</td>\n",
       "      <td>0</td>\n",
       "      <td>0</td>\n",
       "      <td>0</td>\n",
       "      <td>1</td>\n",
       "    </tr>\n",
       "    <tr>\n",
       "      <th>4</th>\n",
       "      <td>142107.34</td>\n",
       "      <td>91391.77</td>\n",
       "      <td>366168.42</td>\n",
       "      <td>0</td>\n",
       "      <td>0</td>\n",
       "      <td>1</td>\n",
       "      <td>0</td>\n",
       "      <td>1</td>\n",
       "      <td>0</td>\n",
       "    </tr>\n",
       "  </tbody>\n",
       "</table>\n",
       "</div>"
      ],
      "text/plain": [
       "   R&D Spend  Administration  Marketing Spend California New York Florida  \\\n",
       "0  165349.20       136897.80        471784.10          0        0       0   \n",
       "1  162597.70       151377.59        443898.53          0        0       0   \n",
       "2  153441.51       101145.55        407934.54          0        0       1   \n",
       "3  144372.41       118671.85        383199.62          0        0       0   \n",
       "4  142107.34        91391.77        366168.42          0        0       1   \n",
       "\n",
       "   State_California  State_Florida  State_New York  \n",
       "0                 0              0               1  \n",
       "1                 1              0               0  \n",
       "2                 0              1               0  \n",
       "3                 0              0               1  \n",
       "4                 0              1               0  "
      ]
     },
     "execution_count": 15,
     "metadata": {},
     "output_type": "execute_result"
    }
   ],
   "source": [
    "#Let's have a look at the Data\n",
    "dataset.head()"
   ]
  },
  {
   "cell_type": "markdown",
   "metadata": {
    "id": "8Dm80EXTuX8w"
   },
   "source": [
    "# Drop the State and one of the three states column.\n",
    "## Question - Why we are dropping one column for the state?"
   ]
  },
  {
   "cell_type": "code",
   "execution_count": 18,
   "metadata": {
    "id": "hAFgpUrmjZbp"
   },
   "outputs": [
    {
     "ename": "KeyError",
     "evalue": "\"['State'] not found in axis\"",
     "output_type": "error",
     "traceback": [
      "\u001b[0;31m---------------------------------------------------------------------------\u001b[0m",
      "\u001b[0;31mKeyError\u001b[0m                                  Traceback (most recent call last)",
      "Input \u001b[0;32mIn [18]\u001b[0m, in \u001b[0;36m<cell line: 2>\u001b[0;34m()\u001b[0m\n\u001b[1;32m      1\u001b[0m \u001b[38;5;66;03m# Dropping the columns\u001b[39;00m\n\u001b[0;32m----> 2\u001b[0m \u001b[43mdataset\u001b[49m\u001b[38;5;241;43m.\u001b[39;49m\u001b[43mdrop\u001b[49m\u001b[43m(\u001b[49m\u001b[43m[\u001b[49m\u001b[38;5;124;43m\"\u001b[39;49m\u001b[38;5;124;43mState\u001b[39;49m\u001b[38;5;124;43m\"\u001b[39;49m\u001b[43m,\u001b[49m\u001b[43m \u001b[49m\u001b[38;5;124;43m\"\u001b[39;49m\u001b[38;5;124;43mFlorida\u001b[39;49m\u001b[38;5;124;43m\"\u001b[39;49m\u001b[43m]\u001b[49m\u001b[43m,\u001b[49m\u001b[43m \u001b[49m\u001b[43maxis\u001b[49m\u001b[43m \u001b[49m\u001b[38;5;241;43m=\u001b[39;49m\u001b[43m \u001b[49m\u001b[38;5;241;43m1\u001b[39;49m\u001b[43m,\u001b[49m\u001b[43m \u001b[49m\u001b[43minplace\u001b[49m\u001b[43m \u001b[49m\u001b[38;5;241;43m=\u001b[39;49m\u001b[43m \u001b[49m\u001b[38;5;28;43;01mTrue\u001b[39;49;00m\u001b[43m)\u001b[49m\n\u001b[1;32m      3\u001b[0m dataset\u001b[38;5;241m.\u001b[39mhead()\n",
      "File \u001b[0;32m/opt/homebrew/anaconda3/lib/python3.9/site-packages/pandas/util/_decorators.py:311\u001b[0m, in \u001b[0;36mdeprecate_nonkeyword_arguments.<locals>.decorate.<locals>.wrapper\u001b[0;34m(*args, **kwargs)\u001b[0m\n\u001b[1;32m    305\u001b[0m \u001b[38;5;28;01mif\u001b[39;00m \u001b[38;5;28mlen\u001b[39m(args) \u001b[38;5;241m>\u001b[39m num_allow_args:\n\u001b[1;32m    306\u001b[0m     warnings\u001b[38;5;241m.\u001b[39mwarn(\n\u001b[1;32m    307\u001b[0m         msg\u001b[38;5;241m.\u001b[39mformat(arguments\u001b[38;5;241m=\u001b[39marguments),\n\u001b[1;32m    308\u001b[0m         \u001b[38;5;167;01mFutureWarning\u001b[39;00m,\n\u001b[1;32m    309\u001b[0m         stacklevel\u001b[38;5;241m=\u001b[39mstacklevel,\n\u001b[1;32m    310\u001b[0m     )\n\u001b[0;32m--> 311\u001b[0m \u001b[38;5;28;01mreturn\u001b[39;00m \u001b[43mfunc\u001b[49m\u001b[43m(\u001b[49m\u001b[38;5;241;43m*\u001b[39;49m\u001b[43margs\u001b[49m\u001b[43m,\u001b[49m\u001b[43m \u001b[49m\u001b[38;5;241;43m*\u001b[39;49m\u001b[38;5;241;43m*\u001b[39;49m\u001b[43mkwargs\u001b[49m\u001b[43m)\u001b[49m\n",
      "File \u001b[0;32m/opt/homebrew/anaconda3/lib/python3.9/site-packages/pandas/core/frame.py:4957\u001b[0m, in \u001b[0;36mDataFrame.drop\u001b[0;34m(self, labels, axis, index, columns, level, inplace, errors)\u001b[0m\n\u001b[1;32m   4809\u001b[0m \u001b[38;5;129m@deprecate_nonkeyword_arguments\u001b[39m(version\u001b[38;5;241m=\u001b[39m\u001b[38;5;28;01mNone\u001b[39;00m, allowed_args\u001b[38;5;241m=\u001b[39m[\u001b[38;5;124m\"\u001b[39m\u001b[38;5;124mself\u001b[39m\u001b[38;5;124m\"\u001b[39m, \u001b[38;5;124m\"\u001b[39m\u001b[38;5;124mlabels\u001b[39m\u001b[38;5;124m\"\u001b[39m])\n\u001b[1;32m   4810\u001b[0m \u001b[38;5;28;01mdef\u001b[39;00m \u001b[38;5;21mdrop\u001b[39m(\n\u001b[1;32m   4811\u001b[0m     \u001b[38;5;28mself\u001b[39m,\n\u001b[0;32m   (...)\u001b[0m\n\u001b[1;32m   4818\u001b[0m     errors: \u001b[38;5;28mstr\u001b[39m \u001b[38;5;241m=\u001b[39m \u001b[38;5;124m\"\u001b[39m\u001b[38;5;124mraise\u001b[39m\u001b[38;5;124m\"\u001b[39m,\n\u001b[1;32m   4819\u001b[0m ):\n\u001b[1;32m   4820\u001b[0m     \u001b[38;5;124;03m\"\"\"\u001b[39;00m\n\u001b[1;32m   4821\u001b[0m \u001b[38;5;124;03m    Drop specified labels from rows or columns.\u001b[39;00m\n\u001b[1;32m   4822\u001b[0m \n\u001b[0;32m   (...)\u001b[0m\n\u001b[1;32m   4955\u001b[0m \u001b[38;5;124;03m            weight  1.0     0.8\u001b[39;00m\n\u001b[1;32m   4956\u001b[0m \u001b[38;5;124;03m    \"\"\"\u001b[39;00m\n\u001b[0;32m-> 4957\u001b[0m     \u001b[38;5;28;01mreturn\u001b[39;00m \u001b[38;5;28;43msuper\u001b[39;49m\u001b[43m(\u001b[49m\u001b[43m)\u001b[49m\u001b[38;5;241;43m.\u001b[39;49m\u001b[43mdrop\u001b[49m\u001b[43m(\u001b[49m\n\u001b[1;32m   4958\u001b[0m \u001b[43m        \u001b[49m\u001b[43mlabels\u001b[49m\u001b[38;5;241;43m=\u001b[39;49m\u001b[43mlabels\u001b[49m\u001b[43m,\u001b[49m\n\u001b[1;32m   4959\u001b[0m \u001b[43m        \u001b[49m\u001b[43maxis\u001b[49m\u001b[38;5;241;43m=\u001b[39;49m\u001b[43maxis\u001b[49m\u001b[43m,\u001b[49m\n\u001b[1;32m   4960\u001b[0m \u001b[43m        \u001b[49m\u001b[43mindex\u001b[49m\u001b[38;5;241;43m=\u001b[39;49m\u001b[43mindex\u001b[49m\u001b[43m,\u001b[49m\n\u001b[1;32m   4961\u001b[0m \u001b[43m        \u001b[49m\u001b[43mcolumns\u001b[49m\u001b[38;5;241;43m=\u001b[39;49m\u001b[43mcolumns\u001b[49m\u001b[43m,\u001b[49m\n\u001b[1;32m   4962\u001b[0m \u001b[43m        \u001b[49m\u001b[43mlevel\u001b[49m\u001b[38;5;241;43m=\u001b[39;49m\u001b[43mlevel\u001b[49m\u001b[43m,\u001b[49m\n\u001b[1;32m   4963\u001b[0m \u001b[43m        \u001b[49m\u001b[43minplace\u001b[49m\u001b[38;5;241;43m=\u001b[39;49m\u001b[43minplace\u001b[49m\u001b[43m,\u001b[49m\n\u001b[1;32m   4964\u001b[0m \u001b[43m        \u001b[49m\u001b[43merrors\u001b[49m\u001b[38;5;241;43m=\u001b[39;49m\u001b[43merrors\u001b[49m\u001b[43m,\u001b[49m\n\u001b[1;32m   4965\u001b[0m \u001b[43m    \u001b[49m\u001b[43m)\u001b[49m\n",
      "File \u001b[0;32m/opt/homebrew/anaconda3/lib/python3.9/site-packages/pandas/core/generic.py:4267\u001b[0m, in \u001b[0;36mNDFrame.drop\u001b[0;34m(self, labels, axis, index, columns, level, inplace, errors)\u001b[0m\n\u001b[1;32m   4265\u001b[0m \u001b[38;5;28;01mfor\u001b[39;00m axis, labels \u001b[38;5;129;01min\u001b[39;00m axes\u001b[38;5;241m.\u001b[39mitems():\n\u001b[1;32m   4266\u001b[0m     \u001b[38;5;28;01mif\u001b[39;00m labels \u001b[38;5;129;01mis\u001b[39;00m \u001b[38;5;129;01mnot\u001b[39;00m \u001b[38;5;28;01mNone\u001b[39;00m:\n\u001b[0;32m-> 4267\u001b[0m         obj \u001b[38;5;241m=\u001b[39m \u001b[43mobj\u001b[49m\u001b[38;5;241;43m.\u001b[39;49m\u001b[43m_drop_axis\u001b[49m\u001b[43m(\u001b[49m\u001b[43mlabels\u001b[49m\u001b[43m,\u001b[49m\u001b[43m \u001b[49m\u001b[43maxis\u001b[49m\u001b[43m,\u001b[49m\u001b[43m \u001b[49m\u001b[43mlevel\u001b[49m\u001b[38;5;241;43m=\u001b[39;49m\u001b[43mlevel\u001b[49m\u001b[43m,\u001b[49m\u001b[43m \u001b[49m\u001b[43merrors\u001b[49m\u001b[38;5;241;43m=\u001b[39;49m\u001b[43merrors\u001b[49m\u001b[43m)\u001b[49m\n\u001b[1;32m   4269\u001b[0m \u001b[38;5;28;01mif\u001b[39;00m inplace:\n\u001b[1;32m   4270\u001b[0m     \u001b[38;5;28mself\u001b[39m\u001b[38;5;241m.\u001b[39m_update_inplace(obj)\n",
      "File \u001b[0;32m/opt/homebrew/anaconda3/lib/python3.9/site-packages/pandas/core/generic.py:4311\u001b[0m, in \u001b[0;36mNDFrame._drop_axis\u001b[0;34m(self, labels, axis, level, errors, consolidate, only_slice)\u001b[0m\n\u001b[1;32m   4309\u001b[0m         new_axis \u001b[38;5;241m=\u001b[39m axis\u001b[38;5;241m.\u001b[39mdrop(labels, level\u001b[38;5;241m=\u001b[39mlevel, errors\u001b[38;5;241m=\u001b[39merrors)\n\u001b[1;32m   4310\u001b[0m     \u001b[38;5;28;01melse\u001b[39;00m:\n\u001b[0;32m-> 4311\u001b[0m         new_axis \u001b[38;5;241m=\u001b[39m \u001b[43maxis\u001b[49m\u001b[38;5;241;43m.\u001b[39;49m\u001b[43mdrop\u001b[49m\u001b[43m(\u001b[49m\u001b[43mlabels\u001b[49m\u001b[43m,\u001b[49m\u001b[43m \u001b[49m\u001b[43merrors\u001b[49m\u001b[38;5;241;43m=\u001b[39;49m\u001b[43merrors\u001b[49m\u001b[43m)\u001b[49m\n\u001b[1;32m   4312\u001b[0m     indexer \u001b[38;5;241m=\u001b[39m axis\u001b[38;5;241m.\u001b[39mget_indexer(new_axis)\n\u001b[1;32m   4314\u001b[0m \u001b[38;5;66;03m# Case for non-unique axis\u001b[39;00m\n\u001b[1;32m   4315\u001b[0m \u001b[38;5;28;01melse\u001b[39;00m:\n",
      "File \u001b[0;32m/opt/homebrew/anaconda3/lib/python3.9/site-packages/pandas/core/indexes/base.py:6661\u001b[0m, in \u001b[0;36mIndex.drop\u001b[0;34m(self, labels, errors)\u001b[0m\n\u001b[1;32m   6659\u001b[0m \u001b[38;5;28;01mif\u001b[39;00m mask\u001b[38;5;241m.\u001b[39many():\n\u001b[1;32m   6660\u001b[0m     \u001b[38;5;28;01mif\u001b[39;00m errors \u001b[38;5;241m!=\u001b[39m \u001b[38;5;124m\"\u001b[39m\u001b[38;5;124mignore\u001b[39m\u001b[38;5;124m\"\u001b[39m:\n\u001b[0;32m-> 6661\u001b[0m         \u001b[38;5;28;01mraise\u001b[39;00m \u001b[38;5;167;01mKeyError\u001b[39;00m(\u001b[38;5;124mf\u001b[39m\u001b[38;5;124m\"\u001b[39m\u001b[38;5;132;01m{\u001b[39;00m\u001b[38;5;28mlist\u001b[39m(labels[mask])\u001b[38;5;132;01m}\u001b[39;00m\u001b[38;5;124m not found in axis\u001b[39m\u001b[38;5;124m\"\u001b[39m)\n\u001b[1;32m   6662\u001b[0m     indexer \u001b[38;5;241m=\u001b[39m indexer[\u001b[38;5;241m~\u001b[39mmask]\n\u001b[1;32m   6663\u001b[0m \u001b[38;5;28;01mreturn\u001b[39;00m \u001b[38;5;28mself\u001b[39m\u001b[38;5;241m.\u001b[39mdelete(indexer)\n",
      "\u001b[0;31mKeyError\u001b[0m: \"['State'] not found in axis\""
     ]
    }
   ],
   "source": [
    "# Dropping the columns\n",
    "dataset.drop([\"State\", \"Florida\"], axis = 1, inplace = True)\n",
    "dataset.head()\n"
   ]
  },
  {
   "cell_type": "markdown",
   "metadata": {
    "id": "R4kE329ku90q"
   },
   "source": [
    "# Lets's check the dataset again.\n",
    "## Question - Can you guess the name of three states from the numbers (1/0) in last two column?"
   ]
  },
  {
   "cell_type": "code",
   "execution_count": null,
   "metadata": {
    "id": "9JtxL7LPj-Ze"
   },
   "outputs": [],
   "source": [
    "# Your code to print sample dataset.\n"
   ]
  },
  {
   "cell_type": "markdown",
   "metadata": {
    "id": "XIQepd2JvPmH"
   },
   "source": [
    "# Let's further process independent variables.\n",
    "\n"
   ]
  },
  {
   "cell_type": "code",
   "execution_count": 21,
   "metadata": {
    "id": "KuLd1d0ukA_E"
   },
   "outputs": [],
   "source": [
    "\n",
    "X = np.asarray(dataset.values.tolist()).astype(float)"
   ]
  },
  {
   "cell_type": "markdown",
   "metadata": {
    "id": "9jbjZBzrwPWM"
   },
   "source": [
    "# Print the shapes of the aray"
   ]
  },
  {
   "cell_type": "code",
   "execution_count": 22,
   "metadata": {
    "id": "NWMcIEalkHJp"
   },
   "outputs": [
    {
     "name": "stdout",
     "output_type": "stream",
     "text": [
      "The shape of the independent fatures are  (50, 9)\n",
      "The shape of the dependent fatures are  (50,)\n"
     ]
    }
   ],
   "source": [
    "#Get the shapes of X and y\n",
    "print(\"The shape of the independent fatures are \",X.shape)\n",
    "print(\"The shape of the dependent fatures are \",y.shape)"
   ]
  },
  {
   "cell_type": "markdown",
   "metadata": {
    "id": "1mkuT1JvwXQS"
   },
   "source": [
    "# Change the shape of the dependent variable to (len(y), 1)"
   ]
  },
  {
   "cell_type": "code",
   "execution_count": 23,
   "metadata": {
    "id": "kkOIedKLkJsS"
   },
   "outputs": [],
   "source": [
    "# Your code to change the shape of the y to (len(y), 1)\n",
    "y = y.reshape(len(y), 1)\n"
   ]
  },
  {
   "cell_type": "markdown",
   "metadata": {
    "id": "086Arswgwifr"
   },
   "source": [
    "# Perform feature scaling\n",
    "## We will study this in detail in class.\n",
    "## For now, guess what following code is doing"
   ]
  },
  {
   "cell_type": "code",
   "execution_count": 24,
   "metadata": {
    "id": "3xY_jX90kqWe"
   },
   "outputs": [
    {
     "name": "stderr",
     "output_type": "stream",
     "text": [
      "/var/folders/mn/gr1pgpjx0j34zg9z2570f8lr0000gn/T/ipykernel_4478/1465211882.py:2: RuntimeWarning: invalid value encountered in true_divide\n",
      "  X[:,i] = (X[:,i] - int(np.mean(X[:,i])))/np.std(X[:,i])\n"
     ]
    }
   ],
   "source": [
    "\n",
    "for i in range(X.shape[1]-2):\n",
    "    X[:,i] = (X[:,i] - int(np.mean(X[:,i])))/np.std(X[:,i])"
   ]
  },
  {
   "cell_type": "code",
   "execution_count": 25,
   "metadata": {
    "id": "d5X_d-T-k2_f"
   },
   "outputs": [],
   "source": [
    "y = (y - int(np.mean(y)))/np.std(y)"
   ]
  },
  {
   "cell_type": "markdown",
   "metadata": {
    "id": "EDibPJ8Xw6qJ"
   },
   "source": [
    "# Adding the feature X0 = 1, so we have the equation: y =  theta[0] * X0) + theta[2] * X1\n"
   ]
  },
  {
   "cell_type": "code",
   "execution_count": 26,
   "metadata": {
    "id": "6IJwREnmk53K"
   },
   "outputs": [],
   "source": [
    "X = np.concatenate((X,np.ones((50,1))), axis = 1)"
   ]
  },
  {
   "cell_type": "markdown",
   "metadata": {
    "id": "0xeqVGkmxNqW"
   },
   "source": [
    "# Let's see X, y and their shapes"
   ]
  },
  {
   "cell_type": "code",
   "execution_count": 27,
   "metadata": {
    "id": "F72giE7Zk8Xc"
   },
   "outputs": [
    {
     "name": "stdout",
     "output_type": "stream",
     "text": [
      "Sample values in X:\n",
      "[[ 2.01642504  0.56077597  2.1539439          nan         nan  0.\n",
      "   0.          0.          1.          1.        ]\n",
      " [ 1.95587388  1.08282964  1.9236012          nan         nan  0.\n",
      "   2.11100165  0.          0.          1.        ]\n",
      " [ 1.75437728 -0.72823397  1.62652848         nan         nan  2.14373231\n",
      "   0.          1.          0.          1.        ]\n",
      " [ 1.55479724 -0.09634157  1.42221104         nan         nan  0.\n",
      "   0.          0.          1.          1.        ]\n",
      " [ 1.50495075 -1.07989629  1.28152852         nan         nan  2.14373231\n",
      "   0.          1.          0.          1.        ]]\n"
     ]
    }
   ],
   "source": [
    "# Your code to print sample values in X\n",
    "# Assuming X is your feature matrix\n",
    "print(\"Sample values in X:\")\n",
    "print(X[:5])  # Print the first 5 rows for example\n"
   ]
  },
  {
   "cell_type": "code",
   "execution_count": 28,
   "metadata": {
    "id": "wiCADV4Xk-40"
   },
   "outputs": [
    {
     "name": "stdout",
     "output_type": "stream",
     "text": [
      "Sample values in y:\n",
      "[[2.01121935]\n",
      " [1.99944599]\n",
      " [1.98085827]\n",
      " [1.77664326]\n",
      " [1.35775614]]\n"
     ]
    }
   ],
   "source": [
    "# Your code to print the sample values in y\n",
    "# Assuming y is your dependent variable\n",
    "print(\"Sample values in y:\")\n",
    "print(y[:5])  # Print the first 5 values for example\n"
   ]
  },
  {
   "cell_type": "markdown",
   "metadata": {
    "id": "tTjU0Q-cxser"
   },
   "source": [
    "# Let's assign the X to a variable Independedent variable."
   ]
  },
  {
   "cell_type": "code",
   "execution_count": 29,
   "metadata": {
    "id": "YdWZQ-b5lDJa"
   },
   "outputs": [],
   "source": [
    "Indpendent_Variables = pd.DataFrame(X)\n"
   ]
  },
  {
   "cell_type": "markdown",
   "metadata": {
    "id": "6gMeaKTBx4-d"
   },
   "source": [
    "# Print Independent variable."
   ]
  },
  {
   "cell_type": "code",
   "execution_count": 30,
   "metadata": {
    "id": "g4ZT1IjrlNHC"
   },
   "outputs": [
    {
     "name": "stdout",
     "output_type": "stream",
     "text": [
      "Independent Variables:\n",
      "          0         1         2   3   4         5         6    7    8    9\n",
      "0  2.016425  0.560776  2.153944 NaN NaN  0.000000  0.000000  0.0  1.0  1.0\n",
      "1  1.955874  1.082830  1.923601 NaN NaN  0.000000  2.111002  0.0  0.0  1.0\n",
      "2  1.754377 -0.728234  1.626528 NaN NaN  2.143732  0.000000  1.0  0.0  1.0\n",
      "3  1.554797 -0.096342  1.422211 NaN NaN  0.000000  0.000000  0.0  1.0  1.0\n",
      "4  1.504951 -1.079896  1.281529 NaN NaN  2.143732  0.000000  1.0  0.0  1.0\n"
     ]
    }
   ],
   "source": [
    "# Your code to print independent variable.\n",
    "# Assuming Indpendent_Variables is your DataFrame containing independent variables\n",
    "print(\"Independent Variables:\")\n",
    "print(Indpendent_Variables.head())\n"
   ]
  },
  {
   "cell_type": "markdown",
   "metadata": {
    "id": "6id_qS-wx_PY"
   },
   "source": [
    "# Following function splits the data into two sets - trainset and testset.\n",
    "# We can also do the same operation using  train_test_split method available in sklearn.model_selection.\n",
    "# But, let's create our own method to split data.\n",
    "\n",
    "# In the following code, set radom_state as your SID.\n",
    "\n",
    "## Comment each line of the code about what its doing."
   ]
  },
  {
   "cell_type": "code",
   "execution_count": 31,
   "metadata": {
    "id": "JyUnKqYklPXO"
   },
   "outputs": [],
   "source": [
    "def split_data(X, y, test_size=0.2, random_state=2162775):  # Set variable random_state as your SID\n",
    "\n",
    "    np.random.seed(random_state)  # Set the random seed for reproducibility\n",
    "    indices = np.random.permutation(len(X))  # Shuffle the indices of the data\n",
    "\n",
    "    data_test_size = int(X.shape[0] * test_size)  # Calculate the size of the test set\n",
    "\n",
    "    # Separate the indices for training and testing\n",
    "    train_indices = indices[data_test_size:]\n",
    "    test_indices = indices[:data_test_size]\n",
    "\n",
    "    # Split the data into training and testing sets based on the indices\n",
    "    X_train = X[train_indices]\n",
    "    y_train = y[train_indices]\n",
    "    X_test = X[test_indices]\n",
    "    y_test = y[test_indices]\n",
    "\n",
    "    return X_train, y_train, X_test, y_test  # Return the split datasets\n"
   ]
  },
  {
   "cell_type": "markdown",
   "metadata": {
    "id": "-SZXGbPozKhg"
   },
   "source": [
    "#Comment each line of the following code about what its doing."
   ]
  },
  {
   "cell_type": "code",
   "execution_count": 32,
   "metadata": {
    "id": "vIoOKmLMz7SG"
   },
   "outputs": [],
   "source": [
    "def forward(X, y, theta):\n",
    "    y_pred = np.sum(theta * X)  # Calculate the predicted value using the linear regression formula\n",
    "    loss = ((y_pred - y)**2) / 2  # Calculate the loss using the mean squared error formula\n",
    "\n",
    "    return loss, y_pred  # Return both the loss and predicted values\n"
   ]
  },
  {
   "cell_type": "markdown",
   "metadata": {
    "id": "eJ2et9uJ3o4i"
   },
   "source": [
    "# Comment each line of the code about what its doing.\n",
    "\n",
    "## What is the problem with the following code? Can it be written more efficiently?"
   ]
  },
  {
   "cell_type": "code",
   "execution_count": 33,
   "metadata": {
    "id": "hOrAJ454z8qk"
   },
   "outputs": [],
   "source": [
    "def updateTheta(X, y_pred, y_true, theta, alpha, index):\n",
    "    for i in range(X.shape[1]):\n",
    "        theta[0, i] -= (alpha * (y_pred - y_true[index]) * X[index, i])\n",
    "\n",
    "    return theta  # Return the updated theta array\n"
   ]
  },
  {
   "cell_type": "markdown",
   "metadata": {
    "id": "446lDTRr3vA8"
   },
   "source": [
    "## Comment each line of the code about what its doing."
   ]
  },
  {
   "cell_type": "code",
   "execution_count": 34,
   "metadata": {
    "id": "gGC0RCK00TPF"
   },
   "outputs": [],
   "source": [
    "def gradient_descent(X, y, epochs = 10, alpha = 0.001, random_state=0):\n",
    "\n",
    "    num_rows = X.shape[0]\n",
    "    num_cols = X.shape[1]\n",
    "\n",
    "    theta = np.random.randn(1,num_cols) / np.sqrt(num_rows)\n",
    "    train_loss = []\n",
    "    num_epochs = []\n",
    "    train_indices = [i for i in range(X.shape[0])]\n",
    "\n",
    "    for j in range(epochs):\n",
    "        cost=0\n",
    "        np.random.seed(random_state)\n",
    "        np.random.shuffle(train_indices)\n",
    "\n",
    "        for i in train_indices:\n",
    "            loss, y_pred = forward(X[i],y[i],theta)\n",
    "            cost+=loss\n",
    "            theta = updateTheta(X,y_pred,y,theta,alpha,i)\n",
    "\n",
    "        train_loss.append(cost)\n",
    "        num_epochs.append(j)\n",
    "\n",
    "    return theta, train_loss, num_epochs"
   ]
  },
  {
   "cell_type": "markdown",
   "metadata": {
    "id": "igWtd1Lo3-ep"
   },
   "source": [
    "## Comment each line of the code about what its doing."
   ]
  },
  {
   "cell_type": "code",
   "execution_count": 35,
   "metadata": {
    "id": "DrEpGXdN0Y2q"
   },
   "outputs": [],
   "source": [
    "def test(X_test, y_test, theta_updated):\n",
    "    test_pred = []  # List to store test predictions\n",
    "    test_loss = []  # List to store test loss\n",
    "\n",
    "    test_indices = [i for i in range(X_test.shape[0])]  # Indices for test samples\n",
    "\n",
    "    for i in test_indices:\n",
    "        loss, y_test_pred = forward(X_test[i], y_test[i], theta_updated)\n",
    "        test_pred.append(y_test_pred)\n",
    "        test_loss.append(loss)\n",
    "\n",
    "    return test_pred, test_loss"
   ]
  },
  {
   "cell_type": "markdown",
   "metadata": {
    "id": "od4-qZRv4AAf"
   },
   "source": [
    "## Comment each line of the code about what its doing."
   ]
  },
  {
   "cell_type": "code",
   "execution_count": 36,
   "metadata": {
    "id": "ORSib6yN0dp5"
   },
   "outputs": [],
   "source": [
    "def predict(theta_updated, X_sample):\n",
    "\n",
    "    prediction = np.sum(theta_updated * X_sample)\n",
    "\n",
    "    return prediction"
   ]
  },
  {
   "cell_type": "markdown",
   "metadata": {
    "id": "hrL_oqSeIYO0"
   },
   "source": [
    "# Create a good plot Epochs vs loss."
   ]
  },
  {
   "cell_type": "code",
   "execution_count": 37,
   "metadata": {
    "id": "XiryfU2C184a"
   },
   "outputs": [],
   "source": [
    "def plotLoss(loss, epochs):\n",
    "    plt.plot(epochs, loss, marker='o', linestyle='-', color='b')\n",
    "    plt.xlabel('Epochs')\n",
    "    plt.ylabel('Loss')\n",
    "    plt.title('Epochs vs Loss')\n",
    "    plt.grid(True)\n",
    "    plt.show()\n"
   ]
  },
  {
   "cell_type": "markdown",
   "metadata": {
    "id": "D-MpfkCR4IAb"
   },
   "source": [
    "# Calling the method  split_data to get train and test set.\n",
    "## Following code has one minor error. Correct this error.\n",
    "\n"
   ]
  },
  {
   "cell_type": "code",
   "execution_count": 39,
   "metadata": {
    "id": "EpxMECnipNSd"
   },
   "outputs": [],
   "source": [
    "# Assuming you have already defined the function split_data\n",
    "# and set random_state as a SID\n",
    "X_train, y_train, X_test, y_test = split_data(X, y, random_state=2162775)\n"
   ]
  },
  {
   "cell_type": "markdown",
   "metadata": {
    "id": "mD-K1DXW4yjP"
   },
   "source": [
    "# Call the gradient descent function with the number of epochs and learning rate of your choice. Keep number of epochs greater that 200 and learning rate less than 0.05."
   ]
  },
  {
   "cell_type": "code",
   "execution_count": 40,
   "metadata": {
    "id": "L6_XGsxmqKEs"
   },
   "outputs": [],
   "source": [
    "# Assuming you have already defined the gradient_descent function\n",
    "theta_updated, train_loss, num_epochs = gradient_descent(X_train, y_train, epochs=300, alpha=0.01)\n"
   ]
  },
  {
   "cell_type": "markdown",
   "metadata": {
    "id": "bLEaYqXx5PEx"
   },
   "source": [
    "# Test your regression model using test data."
   ]
  },
  {
   "cell_type": "code",
   "execution_count": 43,
   "metadata": {
    "id": "WTg11ggFqM6A"
   },
   "outputs": [],
   "source": [
    "# Your code to test the model on test data and updated theta values.\n",
    "test_pred, test_loss = test(X_test, y_test, theta_updated)\n"
   ]
  },
  {
   "cell_type": "markdown",
   "metadata": {
    "id": "yYpIBWt05ZdV"
   },
   "source": [
    "# Plot the loss function."
   ]
  },
  {
   "cell_type": "code",
   "execution_count": 44,
   "metadata": {
    "id": "Lq4Ld1cTqQCX"
   },
   "outputs": [
    {
     "data": {
      "image/png": "[encoded data removed]",
      "text/plain": [
       "<Figure size 640x480 with 1 Axes>"
      ]
     },
     "metadata": {},
     "output_type": "display_data"
    }
   ],
   "source": [
    "# Your code to plot epochs vs loss. Call the method.\n",
    "# Assuming you have already defined the plotLoss function\n",
    "plotLoss(train_loss, num_epochs)\n"
   ]
  },
  {
   "cell_type": "markdown",
   "metadata": {
    "id": "9eA7JcJ05i3t"
   },
   "source": [
    "Perform the predictions on X_tset. Call predict method."
   ]
  },
  {
   "cell_type": "code",
   "execution_count": 45,
   "metadata": {
    "id": "bwMj-gm05jqK"
   },
   "outputs": [
    {
     "name": "stdout",
     "output_type": "stream",
     "text": [
      "[nan, nan, nan, nan, nan, nan, nan, nan, nan, nan]\n"
     ]
    }
   ],
   "source": [
    "# Your code to predict the profit i.e. y values\n",
    "y_pred_test = [predict(theta_updated, X_sample) for X_sample in X_test]\n",
    "\n",
    "# Print or use y_pred_test as needed\n",
    "print(y_pred_test)\n"
   ]
  },
  {
   "cell_type": "markdown",
   "metadata": {
    "id": "8QX9qvbBJ5xI"
   },
   "source": [
    "# **Imortant - Lab Logbook requirement:**\n",
    "\n",
    "# Please document the following in your lab logbook:\n",
    "\n",
    "# 1. Plot the loss function.\n",
    "# 2. Record the output of all the predictions on the test data; i.e., all the predicted y values."
   ]
  },
  {
   "cell_type": "markdown",
   "metadata": {
    "id": "xFVI2Qkt6tJ4"
   },
   "source": [
    "# **Optional Part:**\n",
    "# The rest of this notebook is Optional. It is recommended for you to complete it. However, if you have not marks would not be deducted.\n",
    "\n",
    "# Fitting the model using sklearn and comparing with our model.\n",
    "\n",
    "# Following piece of code is uncommented. Please comment it."
   ]
  },
  {
   "cell_type": "code",
   "execution_count": null,
   "metadata": {
    "id": "FhXzFwONqUCV"
   },
   "outputs": [],
   "source": [
    "# Your code to import train_test_split from sklearn.model_selection\n",
    "# Your code to import LinearRegression from sklearn.linear_model\n",
    "\n",
    "from sklearn.preprocessing import LabelEncoder, OneHotEncoder"
   ]
  },
  {
   "cell_type": "code",
   "execution_count": null,
   "metadata": {
    "id": "S4JcuB2Lqby_"
   },
   "outputs": [],
   "source": [
    "dataset_sk = pd.read_csv('50_Startups.csv')\n",
    "X_sk = dataset_sk.iloc[:, :-1].values\n",
    "y_sk = dataset_sk.iloc[:, 4].values"
   ]
  },
  {
   "cell_type": "code",
   "execution_count": null,
   "metadata": {
    "id": "y3npV2v0qgKD"
   },
   "outputs": [],
   "source": [
    "labelencoder_X_sk = LabelEncoder()\n",
    "X_sk[:,3] = labelencoder_X_sk.fit_transform(X_sk[:,3])\n",
    "\n",
    "onehotencoder = OneHotEncoder(handle_unknown='ignore')\n",
    "X_sk_categorical = onehotencoder.fit_transform(X_sk[:,3].reshape(-1,1)).toarray()\n",
    "X_sk = np.concatenate((X_sk,X_sk_categorical),axis=1)"
   ]
  },
  {
   "cell_type": "code",
   "execution_count": null,
   "metadata": {
    "id": "8mwGdW42qn3D"
   },
   "outputs": [],
   "source": [
    "X_sk = X_sk[:, [0,1,2,5,6]]"
   ]
  },
  {
   "cell_type": "code",
   "execution_count": null,
   "metadata": {
    "id": "T1l5re-Qqp_o"
   },
   "outputs": [],
   "source": [
    "X_sk.shape\n"
   ]
  },
  {
   "cell_type": "code",
   "execution_count": null,
   "metadata": {
    "id": "sx5w-R0lqs2Y"
   },
   "outputs": [],
   "source": [
    "# Your code to perform train test split with 20% data in the test set."
   ]
  },
  {
   "cell_type": "code",
   "execution_count": null,
   "metadata": {
    "colab": {
     "base_uri": "https://localhost:8080/"
    },
    "id": "FtPNcs-9qvPo",
    "outputId": "95195c0f-0486-41f7-aa25-39457f73bd70"
   },
   "outputs": [
    {
     "data": {
      "text/plain": [
       "LinearRegression()"
      ]
     },
     "execution_count": 273,
     "metadata": {},
     "output_type": "execute_result"
    }
   ],
   "source": [
    "regressor_sk = LinearRegression()\n",
    "regressor_sk.fit(X_train_sk, y_train_sk)"
   ]
  },
  {
   "cell_type": "code",
   "execution_count": null,
   "metadata": {
    "id": "ZDTaghDbqyV4"
   },
   "outputs": [],
   "source": [
    "\n",
    "y_pred = regressor_sk.predict(X_test_sk)"
   ]
  },
  {
   "cell_type": "code",
   "execution_count": null,
   "metadata": {
    "id": "xQ6Xu0uOq0uf"
   },
   "outputs": [],
   "source": [
    "X_train_sk.shape\n"
   ]
  },
  {
   "cell_type": "code",
   "execution_count": null,
   "metadata": {
    "id": "CE6llxNiq30S"
   },
   "outputs": [],
   "source": [
    "#Making the Prediction using Sklearn Regression\n",
    "print(regressor_sk.predict([[160000,140000,5000000,1,0]]))"
   ]
  },
  {
   "cell_type": "code",
   "execution_count": null,
   "metadata": {
    "id": "90xW5Wcrq6fc"
   },
   "outputs": [],
   "source": [
    "#Making a Prediction\n",
    "pred = predict(theta_updated,[160000,140000,5000000,1,0,1])\n",
    "print(pred)"
   ]
  },
  {
   "cell_type": "code",
   "execution_count": null,
   "metadata": {
    "id": "cCcFXPhO9yYD"
   },
   "outputs": [],
   "source": []
  }
 ],
 "metadata": {
  "colab": {
   "provenance": []
  },
  "kernelspec": {
   "display_name": "Python 3 (ipykernel)",
   "language": "python",
   "name": "python3"
  },
  "language_info": {
   "codemirror_mode": {
    "name": "ipython",
    "version": 3
   },
   "file_extension": ".py",
   "mimetype": "text/x-python",
   "name": "python",
   "nbconvert_exporter": "python",
   "pygments_lexer": "ipython3",
   "version": "3.9.13"
  }
 },
 "nbformat": 4,
 "nbformat_minor": 1
}
