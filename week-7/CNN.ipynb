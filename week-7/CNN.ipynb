{
  "nbformat": 4,
  "nbformat_minor": 0,
  "metadata": {
    "colab": {
      "provenance": []
    },
    "kernelspec": {
      "name": "python3",
      "display_name": "Python 3"
    },
    "language_info": {
      "name": "python"
    }
  },
  "cells": [
    {
      "cell_type": "markdown",
      "source": [
        "**CIFAR dataset:**\n",
        "\n",
        "The CIFAR dataset is a popular benchmark dataset in the field of computer vision and machine learning. It is a collection of labeled images used to train and test machine learning models, particularly for image classification tasks. The dataset is widely used because it represents a real-world problem and introduces several challenges that students should be aware of.\n",
        "\n",
        "**Classification Problem:**\n",
        "\n",
        "The classification problem of the CIFAR dataset is to correctly categorize images into predefined classes. For CIFAR-10, there are ten distinct classes, and for CIFAR-100, there are one hundred classes. Each image belongs to one of these classes, and the goal is to design a model that can accurately assign the correct class label to each image.\n",
        "\n",
        "\n",
        "\n"
      ],
      "metadata": {
        "id": "ypRbi0sgGvSM"
      }
    },
    {
      "cell_type": "code",
      "execution_count": null,
      "metadata": {
        "id": "Y_vaDY8JDfDs"
      },
      "outputs": [],
      "source": [
        "# import libraries\n",
        "import numpy as np\n",
        "import matplotlib.pyplot as plt\n",
        "from keras.datasets import cifar10\n",
        "from keras.utils import to_categorical\n",
        "from keras.models import Sequential\n",
        "from keras.layers import Dense, Flatten, Conv2D, MaxPooling2D\n",
        "from sklearn.model_selection import train_test_split"
      ]
    },
    {
      "cell_type": "code",
      "source": [
        "# Load the CIFAR-10 dataset\n",
        "(X_train, y_train), (X_test, y_test) = cifar10.load_data()"
      ],
      "metadata": {
        "id": "JYkjETP2DnAD"
      },
      "execution_count": null,
      "outputs": []
    },
    {
      "cell_type": "code",
      "source": [
        "# Display a few images before model development, Hint - plt.title(f\"Label: {y_train[i].argmax()}\") will give you True Label.\n",
        "#\n",
        "#\n",
        "# Your code to display a few images before the model development.\n",
        "#\n",
        "#"
      ],
      "metadata": {
        "id": "3gDWECeFDqYH"
      },
      "execution_count": null,
      "outputs": []
    },
    {
      "cell_type": "code",
      "source": [
        "# Preprocess the data\n",
        "X_train = X_train.astype('float32') / 255.0\n",
        "y_train = to_categorical(y_train, 10)\n",
        "X_test = X_test.astype('float32') / 255.0\n",
        "y_test = to_categorical(y_test, 10)"
      ],
      "metadata": {
        "id": "v7SSNWmXD5QY"
      },
      "execution_count": null,
      "outputs": []
    },
    {
      "cell_type": "code",
      "source": [
        "# Create an MLP model using Keras\n",
        "mlp_model = Sequential()\n",
        "mlp_model.add(Flatten(input_shape=X_train.shape[1:]))\n",
        "mlp_model.add(Dense(512, activation='relu'))\n",
        "mlp_model.add(Dense(256, activation='relu'))\n",
        "mlp_model.add(Dense(10, activation='softmax'))\n",
        "mlp_model.compile(optimizer='adam', loss='categorical_crossentropy', metrics=['accuracy'])"
      ],
      "metadata": {
        "id": "hLjMSCs-D8eo"
      },
      "execution_count": null,
      "outputs": []
    },
    {
      "cell_type": "code",
      "source": [
        "# Train and evaluate the MLP classifier\n",
        "mlp_model.fit(X_train, y_train, epochs=10, verbose=1)"
      ],
      "metadata": {
        "id": "oWotExkEECrY"
      },
      "execution_count": null,
      "outputs": []
    },
    {
      "cell_type": "code",
      "source": [
        "mlp_loss, mlp_accuracy = mlp_model.evaluate(X_test, y_test, verbose=0)\n",
        "print(f\"MLP Test Accuracy: {mlp_accuracy * 100:.2f}%\")"
      ],
      "metadata": {
        "id": "jiSecKHZEG4H"
      },
      "execution_count": null,
      "outputs": []
    },
    {
      "cell_type": "code",
      "source": [
        "# Create a CNN model using Keras\n",
        "cnn_model = Sequential()\n",
        "cnn_model.add(Conv2D(32, (3, 3), activation='relu', input_shape=X_train.shape[1:]))\n",
        "cnn_model.add(MaxPooling2D((2, 2)))\n",
        "cnn_model.add(Conv2D(64, (3, 3), activation='relu'))\n",
        "cnn_model.add(MaxPooling2D((2, 2)))\n",
        "cnn_model.add(Conv2D(64, (3, 3), activation='relu'))\n",
        "cnn_model.add(Flatten())\n",
        "cnn_model.add(Dense(64, activation='relu'))\n",
        "cnn_model.add(Dense(10, activation='softmax'))\n",
        "cnn_model.compile(optimizer='adam', loss='categorical_crossentropy', metrics=['accuracy'])"
      ],
      "metadata": {
        "id": "cMwj7tpyELe9"
      },
      "execution_count": null,
      "outputs": []
    },
    {
      "cell_type": "code",
      "source": [
        "# Train and evaluate the CNN classifier\n",
        "cnn_model.fit(X_train, y_train, epochs=10)"
      ],
      "metadata": {
        "id": "Q4WibmMUEOYW"
      },
      "execution_count": null,
      "outputs": []
    },
    {
      "cell_type": "code",
      "source": [
        "cnn_loss, cnn_accuracy = cnn_model.evaluate(X_test, y_test, verbose=0)\n",
        "print(f\"CNN Test Accuracy: {cnn_accuracy * 100:.2f}%\")"
      ],
      "metadata": {
        "id": "yFvo2h7KEtNO"
      },
      "execution_count": null,
      "outputs": []
    },
    {
      "cell_type": "code",
      "source": [
        "# Display a few images after CNN model development\n",
        "for i in range(5):\n",
        "    plt.figure(figsize=(1, 1))\n",
        "    plt.imshow(X_train[i])\n",
        "    plt.title(f\"Label: {y_train[i].argmax()}\")\n",
        "    plt.axis('off')\n",
        "    plt.show()\n",
        "\n"
      ],
      "metadata": {
        "id": "Sngp9-rGERxV"
      },
      "execution_count": null,
      "outputs": []
    },
    {
      "cell_type": "markdown",
      "source": [
        "Based on the aforementioned code, perform the following activity:\n",
        "\n",
        "\n",
        "1.   Using the provided code, create one distinct CNN models with architectures different from the one provided.\n",
        "\n",
        "\n",
        "2.  Train the model with three different optimizers selected from the options available at https://keras.io/api/optimizers/.\n",
        "\n",
        "3.  Measure the time it takes to train each model with its respective optimizer by importing the 'time' module and recording the start and end times using 'time.time()'.\n",
        "\n",
        "4. Include this bar plot in your lab logbook to compare training times with different optimizers.\n",
        "\n",
        "5. Strive to fine-tune the model parameters to achieve higher accuracy, ideally surpassing 90%. Document in your lab logbook the highest accuracy you have achieved through this fine-tuning process."
      ],
      "metadata": {
        "id": "K_mXqdj5Ht2O"
      }
    },
    {
      "cell_type": "code",
      "source": [
        "#\n",
        "#\n",
        "#\n",
        "# Your code to do the above activity.\n",
        "# Hint - Put name of optimizers in a list and use  loops\n",
        "# Hint - import time and use time.time() just before and after training to record start and end time of the training. Difference will provide the training time.\n",
        "# Hint - Store training time in a list\n",
        "#\n",
        "#\n"
      ],
      "metadata": {
        "id": "Z0-y9_DkcFAY"
      },
      "execution_count": null,
      "outputs": []
    },
    {
      "cell_type": "markdown",
      "source": [
        "Lab Logbook Requirements:\n",
        "\n",
        "1. Record the bar graph depicting the comparison of training times.\n",
        "2. Record the final accuracy achieved.\n"
      ],
      "metadata": {
        "id": "0emrJQ_FdCRG"
      }
    }
  ]
}