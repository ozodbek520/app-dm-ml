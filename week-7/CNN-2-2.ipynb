{
 "cells": [
  {
   "cell_type": "markdown",
   "metadata": {},
   "source": [
    "# Convolutional Neural Network\n",
    "## Week-7 - 2023"
   ]
  },
  {
   "cell_type": "markdown",
   "metadata": {
    "id": "ypRbi0sgGvSM"
   },
   "source": [
    "**CIFAR dataset:**\n",
    "\n",
    "The CIFAR dataset is a popular benchmark dataset in the field of computer vision and machine learning. It is a collection of labeled images used to train and test machine learning models, particularly for image classification tasks. The dataset is widely used because it represents a real-world problem and introduces several challenges that students should be aware of.\n",
    "\n",
    "**Classification Problem:**\n",
    "\n",
    "The classification problem of the CIFAR dataset is to correctly categorize images into predefined classes. For CIFAR-10, there are ten distinct classes, and for CIFAR-100, there are one hundred classes. Each image belongs to one of these classes, and the goal is to design a model that can accurately assign the correct class label to each image.\n",
    "\n",
    "\n",
    "\n"
   ]
  },
  {
   "cell_type": "code",
   "execution_count": null,
   "metadata": {
    "id": "Y_vaDY8JDfDs"
   },
   "outputs": [],
   "source": [
    "# import libraries\n",
    "\n",
    "import numpy as np\n",
    "import matplotlib.pyplot as plt\n",
    "\n",
    "from keras.datasets import cifar10\n",
    "\n",
    "from keras.utils import to_categorical\n",
    "from keras.models import Sequential\n",
    "from keras.layers import Dense, Flatten, Conv2D, MaxPooling2D\n",
    "\n",
    "from sklearn.model_selection import train_test_split"
   ]
  },
  {
   "cell_type": "code",
   "execution_count": null,
   "metadata": {
    "id": "JYkjETP2DnAD"
   },
   "outputs": [],
   "source": [
    "# Load the CIFAR-10 dataset\n",
    "\n",
    "(X_train, y_train), (X_test, y_test) = cifar10.load_data()"
   ]
  },
  {
   "cell_type": "code",
   "execution_count": null,
   "metadata": {},
   "outputs": [],
   "source": [
    "print('X_train size: ',X_train.shape)\n",
    "print('y_train size: ',y_train.shape)\n",
    "print('X_test size:  ',X_test.shape)\n",
    "print('y_test size:  ',y_test.shape)"
   ]
  },
  {
   "cell_type": "code",
   "execution_count": null,
   "metadata": {},
   "outputs": [],
   "source": [
    "# Class names in the CIFAR-10 dataset \n",
    "\n",
    "classes=['aircraft', 'car', 'bird', 'cat', 'deer',\n",
    " 'dog', 'frog', 'hours', 'ship', 'truck']\n",
    "\n",
    "classes"
   ]
  },
  {
   "cell_type": "code",
   "execution_count": null,
   "metadata": {
    "id": "3gDWECeFDqYH"
   },
   "outputs": [],
   "source": [
    "# Display a few images before model development, Hint - plt.title(f\"Label: {y_train[i].argmax()}\") will give you True Label.\n",
    "#\n",
    "#\n",
    "# Your code to display a few images before the model development.\n",
    "#\n",
    "#"
   ]
  },
  {
   "cell_type": "code",
   "execution_count": null,
   "metadata": {
    "id": "v7SSNWmXD5QY"
   },
   "outputs": [],
   "source": [
    "# Preprocess the data\n",
    "\n",
    "X_train = X_train.astype('float32') / 255.0\n",
    "y_train = to_categorical(y_train, 10)\n",
    "X_test = X_test.astype('float32') / 255.0\n",
    "y_test = to_categorical(y_test, 10)"
   ]
  },
  {
   "cell_type": "markdown",
   "metadata": {},
   "source": [
    "### MLP model"
   ]
  },
  {
   "cell_type": "code",
   "execution_count": null,
   "metadata": {
    "id": "hLjMSCs-D8eo"
   },
   "outputs": [],
   "source": [
    "# Create an MLP model using Keras\n",
    "\n",
    "mlp_model = Sequential()\n",
    "mlp_model.add(Flatten(input_shape=X_train.shape[1:]))\n",
    "mlp_model.add(Dense(512, activation='relu'))\n",
    "mlp_model.add(Dense(256, activation='relu'))\n",
    "mlp_model.add(Dense(10, activation='softmax'))\n",
    "\n",
    "# print the MLP model\n",
    "\n",
    "print(mlp_model.summary())"
   ]
  },
  {
   "cell_type": "code",
   "execution_count": null,
   "metadata": {},
   "outputs": [],
   "source": [
    "mlp_model.compile(optimizer='adam', loss='categorical_crossentropy', metrics=['accuracy'])"
   ]
  },
  {
   "cell_type": "code",
   "execution_count": null,
   "metadata": {
    "id": "oWotExkEECrY"
   },
   "outputs": [],
   "source": [
    "# Train and evaluate the MLP classifier\n",
    "\n",
    "history = mlp_model.fit(X_train, y_train, epochs=10, verbose=1)"
   ]
  },
  {
   "cell_type": "code",
   "execution_count": null,
   "metadata": {},
   "outputs": [],
   "source": [
    " # Print the training process graph and result \n",
    "\n",
    "history_dict = history.history\n",
    "plt.style.use('seaborn-darkgrid') \n",
    "\n",
    "acc_values = history_dict['accuracy']\n",
    "epochs = range(1, len(acc_values) + 1)\n",
    "\n",
    "plt.figure(num=1, figsize=(15,7))\n",
    "plt.plot(epochs, acc_values, 'bo', label='Training accuracy')\n",
    "plt.xlabel('Epochs')\n",
    "plt.ylabel('Accuracy')\n",
    "plt.legend()\n",
    "\n",
    "plt.show()"
   ]
  },
  {
   "cell_type": "code",
   "execution_count": null,
   "metadata": {
    "id": "jiSecKHZEG4H"
   },
   "outputs": [],
   "source": [
    "# evaluation - Accuracy result on the Test set\n",
    "\n",
    "mlp_loss, mlp_accuracy = mlp_model.evaluate(X_test, y_test, verbose=0)\n",
    "print(f\"MLP Test Accuracy: {mlp_accuracy * 100:.2f}%\")"
   ]
  },
  {
   "cell_type": "markdown",
   "metadata": {},
   "source": [
    "### CNN model"
   ]
  },
  {
   "cell_type": "code",
   "execution_count": null,
   "metadata": {
    "id": "cMwj7tpyELe9"
   },
   "outputs": [],
   "source": [
    "# Create a CNN model using Keras\n",
    "\n",
    "cnn_model = Sequential()\n",
    "\n",
    "cnn_model.add(Conv2D(32, (3, 3), activation='relu', input_shape=X_train.shape[1:]))\n",
    "cnn_model.add(MaxPooling2D((2, 2)))\n",
    "\n",
    "cnn_model.add(Conv2D(64, (3, 3), activation='relu'))\n",
    "cnn_model.add(MaxPooling2D((2, 2)))\n",
    "\n",
    "cnn_model.add(Conv2D(64, (3, 3), activation='relu'))\n",
    "\n",
    "cnn_model.add(Flatten())\n",
    "\n",
    "cnn_model.add(Dense(64, activation='relu'))\n",
    "cnn_model.add(Dense(10, activation='softmax'))\n",
    "\n",
    "# print the CNN model\n",
    "\n",
    "print(cnn_model.summary())\n"
   ]
  },
  {
   "cell_type": "code",
   "execution_count": null,
   "metadata": {},
   "outputs": [],
   "source": [
    "# compilation\n",
    "\n",
    "cnn_model.compile(optimizer='adam', loss='categorical_crossentropy', metrics=['accuracy'])"
   ]
  },
  {
   "cell_type": "code",
   "execution_count": null,
   "metadata": {
    "id": "Q4WibmMUEOYW"
   },
   "outputs": [],
   "source": [
    "# Train and evaluate the CNN classifier\n",
    "\n",
    "history2 = cnn_model.fit(X_train, y_train, epochs=10, verbose = 1)"
   ]
  },
  {
   "cell_type": "code",
   "execution_count": null,
   "metadata": {},
   "outputs": [],
   "source": [
    "# Your code to print the CNN training process graph and result \n",
    "#\n",
    "#\n",
    "#\n"
   ]
  },
  {
   "cell_type": "code",
   "execution_count": null,
   "metadata": {
    "id": "yFvo2h7KEtNO"
   },
   "outputs": [],
   "source": [
    "# evaluation - Accuracy result on the Test set\n",
    "\n",
    "cnn_loss, cnn_accuracy = cnn_model.evaluate(X_test, y_test, verbose=0)\n",
    "print(f\"CNN Test Accuracy: {cnn_accuracy * 100:.2f}%\")"
   ]
  },
  {
   "cell_type": "code",
   "execution_count": null,
   "metadata": {
    "id": "Sngp9-rGERxV"
   },
   "outputs": [],
   "source": [
    "# Display a few images after CNN model development\n",
    "\n",
    "for i in range(5):\n",
    "    plt.figure(figsize=(1, 1))\n",
    "    plt.imshow(X_train[i])\n",
    "    plt.title(f\"Label: {y_train[i].argmax()}\")\n",
    "    plt.axis('off')\n",
    "    plt.show()\n",
    "\n"
   ]
  },
  {
   "cell_type": "code",
   "execution_count": null,
   "metadata": {},
   "outputs": [],
   "source": []
  },
  {
   "cell_type": "markdown",
   "metadata": {
    "id": "K_mXqdj5Ht2O"
   },
   "source": [
    "Based on the aforementioned code, perform the following activity:\n",
    "\n",
    "\n",
    "1.   Using the provided code, create one distinct CNN models with architectures different from the one provided.\n",
    "\n",
    "\n",
    "2.  Train the model with three different optimizers selected from the options available at https://keras.io/api/optimizers/.\n",
    "\n",
    "3.  Measure the time it takes to train each model with its respective optimizer by importing the 'time' module and recording the start and end times using 'time.time()'.\n",
    "\n",
    "4. Include this bar plot in your lab logbook to compare training times with different optimizers.\n",
    "\n",
    "5. Strive to fine-tune the model parameters to achieve higher accuracy, ideally surpassing 90%. Document in your lab logbook the highest accuracy you have achieved through this fine-tuning process."
   ]
  },
  {
   "cell_type": "code",
   "execution_count": null,
   "metadata": {},
   "outputs": [],
   "source": [
    "# Your code to do the above activity.\n",
    "# Hint - import time\n",
    "#\n",
    "#"
   ]
  },
  {
   "cell_type": "code",
   "execution_count": 1,
   "metadata": {
    "id": "Z0-y9_DkcFAY"
   },
   "outputs": [],
   "source": [
    "# Your code to do the above activity.\n",
    "# Hint - Put name of optimizers \n",
    "#\n",
    "#\n"
   ]
  },
  {
   "cell_type": "code",
   "execution_count": null,
   "metadata": {},
   "outputs": [],
   "source": [
    "# Your code to do the above activity.\n",
    "# Hint - Store training time and accuracy in lists\n",
    "#\n",
    "#\n"
   ]
  },
  {
   "cell_type": "code",
   "execution_count": 2,
   "metadata": {},
   "outputs": [],
   "source": [
    "# Your code to do the above activity.\n",
    "# Hint - import time and use time.time() just before and after training to record start and end time of the training. Difference will provide the training time.\n",
    "#\n",
    "#\n",
    "#\n"
   ]
  },
  {
   "cell_type": "code",
   "execution_count": null,
   "metadata": {},
   "outputs": [],
   "source": [
    "# Your code to do the above activity.\n",
    "# Hint - use loops for use different optimizers\n",
    "\n",
    "for optimizer in optimizers:\n",
    "    # Create a new CNN models with architectures different from the one provided\n",
    "    #\n",
    "    #\n",
    "    \n",
    "    # Compile the model with the current optimizer\n",
    "    #\n",
    "    \n",
    "    # Measure training time\n",
    "    #\n",
    "    #\n",
    "    \n",
    "    # Evaluate the model\n",
    "    #\n",
    "    #\n",
    "    \n",
    "    "
   ]
  },
  {
   "cell_type": "code",
   "execution_count": null,
   "metadata": {},
   "outputs": [],
   "source": [
    "# Your code to do the above activity.\n",
    "# Generate a bar plot to compare training times\n",
    "#\n",
    "#\n"
   ]
  },
  {
   "cell_type": "markdown",
   "metadata": {
    "id": "0emrJQ_FdCRG"
   },
   "source": [
    "Lab Logbook Requirements:\n",
    "\n",
    "1. Record the bar graph depicting the comparison of training times.\n",
    "2. Record the final accuracy achieved.\n"
   ]
  },
  {
   "cell_type": "code",
   "execution_count": null,
   "metadata": {},
   "outputs": [],
   "source": [
    "# Print accuracies achieved with different optimizers\n",
    "\n",
    "for i, optimizer in enumerate(optimizers):\n",
    "    print(f\"{optimizer} Optimizer - Test Accuracy: {accuracies[i] * 100:.2f}%\")"
   ]
  },
  {
   "cell_type": "code",
   "execution_count": null,
   "metadata": {},
   "outputs": [],
   "source": [
    "# Your code to\n",
    "# Find and print the highest achieved accuracy\n",
    "#"
   ]
  },
  {
   "cell_type": "code",
   "execution_count": null,
   "metadata": {},
   "outputs": [],
   "source": []
  }
 ],
 "metadata": {
  "colab": {
   "provenance": []
  },
  "kernelspec": {
   "display_name": "Python 3 (ipykernel)",
   "language": "python",
   "name": "python3"
  },
  "language_info": {
   "codemirror_mode": {
    "name": "ipython",
    "version": 3
   },
   "file_extension": ".py",
   "mimetype": "text/x-python",
   "name": "python",
   "nbconvert_exporter": "python",
   "pygments_lexer": "ipython3",
   "version": "3.11.5"
  }
 },
 "nbformat": 4,
 "nbformat_minor": 1
}
